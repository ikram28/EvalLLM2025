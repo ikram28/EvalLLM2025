{
  "nbformat": 4,
  "nbformat_minor": 0,
  "metadata": {
    "colab": {
      "provenance": []
    },
    "kernelspec": {
      "name": "python3",
      "display_name": "Python 3"
    },
    "language_info": {
      "name": "python"
    }
  },
  "cells": [
    {
      "cell_type": "markdown",
      "source": [
        "# ========== INSTALL DEPENDENCIES ==========\n"
      ],
      "metadata": {
        "id": "RdkQk-rizwQF"
      }
    },
    {
      "cell_type": "code",
      "source": [
        "!pip install openai --upgrade"
      ],
      "metadata": {
        "id": "vbMaqBap5iJn",
        "collapsed": true
      },
      "execution_count": null,
      "outputs": []
    },
    {
      "cell_type": "markdown",
      "source": [
        "# ========== IMPORT LIBRARIES ==========\n"
      ],
      "metadata": {
        "id": "x1wh1GgEjzTv"
      }
    },
    {
      "cell_type": "code",
      "source": [
        "import os\n",
        "import json\n",
        "import numpy as np\n",
        "from openai import OpenAI"
      ],
      "metadata": {
        "id": "_dpUL0C50ehw"
      },
      "execution_count": null,
      "outputs": []
    },
    {
      "cell_type": "markdown",
      "source": [
        "# ========== LOAD PREDICTED DATA ==========\n"
      ],
      "metadata": {
        "id": "BPK42fpPjknp"
      }
    },
    {
      "cell_type": "code",
      "source": [
        "# Load the GLiNER output with XML tags\n",
        "with open('file-path','r',encoding='utf-8') as f:\n",
        "    data = json.load(f)\n",
        "pred  = [d['tagged_text'] for d in data]\n"
      ],
      "metadata": {
        "id": "yWM1RDrjhByZ"
      },
      "execution_count": null,
      "outputs": []
    },
    {
      "cell_type": "markdown",
      "source": [
        "# ========== CONFIG ==========\n"
      ],
      "metadata": {
        "id": "oSUnEY9BlnIW"
      }
    },
    {
      "cell_type": "code",
      "source": [
        "client = OpenAI(\n",
        "    api_key=\"YOUR-API-KEY\"\n",
        ")\n",
        "CHAT_MODEL  = 'gpt-4.1'\n"
      ],
      "metadata": {
        "id": "KSz4CyRDloxY"
      },
      "execution_count": null,
      "outputs": []
    },
    {
      "cell_type": "markdown",
      "source": [
        "# ========== SYSTEM PROMPT ==========\n"
      ],
      "metadata": {
        "id": "lu8z1-j_lx3V"
      }
    },
    {
      "cell_type": "code",
      "source": [
        "SYSTEM_PROMPT=\"\"\"You are a biomedical named entity recognition (NER) expert. Your task is to review, correct, and complete the entity annotations in the following text using inline XML-style tags.\n",
        "\n",
        "Instructions:\n",
        "\n",
        "* The input text already contains XML-style tags (e.g., <RADIOISOTOPE>uranium 238</RADIOISOTOPE>).\n",
        "* Verify each existing tag:\n",
        "  * Ensure the entity label is correct.\n",
        "  * Correct any mislabeling.\n",
        "* Tag any missing entities using only the valid labels from the glossary below.\n",
        "* Return only the corrected and fully tagged version of the text in valid XML format — no extra text or explanation.\n",
        "\n",
        "Annotation Rules:\n",
        "\n",
        "* Use only labels from the glossary below.\n",
        "* Exclude determiners, pronouns, and punctuation from inside tags.\n",
        "* Tags must not cross paragraph boundaries.\n",
        "* Do not tag generic terms like “virus”, “bactérie”, or any pronouns.\n",
        "* Do not invent or use tags that are not present in the glossary below.\n",
        "* Ensure all XML is valid: tags must be correctly opened and closed.\n",
        "\n",
        "Glossary of Valid Entity Labels and Definitions:\n",
        "\n",
        "* <DOC_AUTHOR> — Document author(s).\n",
        "* <DOC_SOURCE> — The source or publisher of the document (e.g., 'AFP', 'Reuters').\n",
        "* <INF_DISEASE> — Infectious diseases (caused by bacteria, viruses, fungi, parasites, etc.).\n",
        "* <NON_INF_DISEASE> — Non-infectious diseases (e.g., diabetes, cancer).\n",
        "* <PATHOGEN> — The infectious agent itself (bacterium, virus, parasite, etc.).\n",
        "* <DIS_REF_TO_PATH> — A disease name used to refer to the pathogen.\n",
        "* <PATH_REF_TO_DIS> — A pathogen name used to refer to the disease.\n",
        "* <RADIOISOTOPE> — A radioactive form of an element (e.g., polonium, uranium-238).\n",
        "* <TOXIC_C_AGENT> — Inorganic toxic chemicals (e.g., chlorine gas).\n",
        "* <EXPLOSIVE> — Any explosive substance or compound.\n",
        "* <BIO_TOXIN> — Organic chemical toxins from biological sources (e.g., ricin, botulinum toxin).\n",
        "* <LOCATION> — Named geographic places (countries, cities, rivers, etc.).\n",
        "* <ORGANIZATION> — Institutions or agencies with social/legal identity (e.g., WHO, Institut Pasteur).\n",
        "* <LOC_REF_TO_ORG> — Place name used to refer to an organization.\n",
        "* <ORG_REF_TO_LOC> — Organization name used to refer to the place it is located.\n",
        "* <ABS_DATE> — Exact date (e.g., “15 mars 2020”).\n",
        "* <REL_DATE> — Relative date (e.g., “hier”, “lundi dernier”).\n",
        "* <DOC_DATE> — Document publication date.\n",
        "* <ABS_PERIOD> — Exact period (e.g., “mars 2020”, “du 1er au 3 mai”).\n",
        "* <REL_PERIOD> — Relative period (e.g., “les 3 derniers jours”).\n",
        "* <FUZZY_PERIOD> — Vague time period (e.g., “ces dernières années”, “depuis plusieurs mois”).\n",
        "\n",
        "**Examples:**\n",
        "\n",
        "Input:\n",
        "\"La réunion a eu lieu le 12 avril 2020.\"\n",
        "→ Correction:\n",
        "\"La réunion a eu lieu le <ABS_DATE>12 avril 2020</ABS_DATE>.\"\n",
        "\n",
        "Input:\n",
        "\"Ces dernières années, les cas ont augmenté.\"\n",
        "→ Correction:\n",
        "\"<FUZZY_PERIOD>Ces dernières années</FUZZY_PERIOD>, les cas ont augmenté.\"\n",
        "\n",
        "Input:\n",
        "\"<LOCATION>Paris</LOCATION> a annoncé un plan d'urgence sanitaire.\"\n",
        "→ Correction:\n",
        "<LOC_REF_TO_ORG>Paris</LOC_REF_TO_ORG> a annoncé un plan d'urgence sanitaire.\n",
        "\n",
        "Input:\n",
        "\"Les tests ont été menés entre mars et juin 2021.\"\n",
        "→ Correction:\n",
        "\"Les tests ont été menés entre <ABS_PERIOD>mars et juin 2021</ABS_PERIOD>.\"\n",
        "\n",
        "Input:\n",
        "\"Le <PATHOGEN>virus</PATHOGEN> peut causer des dommages importants.\"\n",
        "→ Correction:\n",
        "\"Le virus peut causer des dommages importants.\" // Do not tag generic terms like 'virus' when unspecific.\n",
        "\n",
        "Input:\n",
        "\"Un accident a eu lieu dans la centrale nucléaire de <LOCATION>Tchernobyl<LOCATION>.\"\n",
        "→ Correction:\n",
        "\"Un accident a eu lieu dans la <ORG_REF_TO_LOC>centrale nucléaire de Tchernobyl</ORG_REF_TO_LOC>.\"\n",
        "\n",
        "Input:\n",
        "\"Le <PATHOGEN>paludisme</PATHOGEN> est causé par un parasite.\"\n",
        "→ Correction:\n",
        "\"<DIS_REF_TO_PATH>paludisme</DIS_REF_TO_PATH> est causé par un parasite.\"\n",
        "\n",
        "Input:\n",
        "\"Le <PATHOGEN>VIH</PATHOGEN> est une infection virale chronique.\"\n",
        "→ Correction:\n",
        "\"<PATH_REF_TO_DIS>VIH</PATH_REF_TO_DIS> est une infection virale chronique.\"\n",
        "\n",
        "Only output the corrected and completed XML-tagged version of the text. Do not include any additional explanation.\"\"\""
      ],
      "metadata": {
        "id": "JqWh8vnrY__-"
      },
      "execution_count": null,
      "outputs": []
    },
    {
      "cell_type": "markdown",
      "source": [
        "# ========== BUILD VERIFICATION TASKS FOR OPENAI API ==========\n"
      ],
      "metadata": {
        "id": "86FA9z1rl-hJ"
      }
    },
    {
      "cell_type": "code",
      "source": [
        "tasks = []\n",
        "for i, text in enumerate(pred):\n",
        "  user_content = f\"{pred[i]}\"\n",
        "\n",
        "  tasks.append({\n",
        "      \"custom_id\": f\"task-{i}\",\n",
        "      \"method\": \"POST\",\n",
        "      \"url\": \"/v1/chat/completions\",\n",
        "      \"body\": {\n",
        "          \"model\": CHAT_MODEL,\n",
        "          \"temperature\": 0,\n",
        "          \"messages\": [\n",
        "              {\"role\": \"system\", \"content\": SYSTEM_PROMPT},\n",
        "              {\"role\": \"user\",   \"content\": user_content}\n",
        "          ]\n",
        "      }\n",
        "  })"
      ],
      "metadata": {
        "id": "NuhDRhZ-Ci1K"
      },
      "execution_count": null,
      "outputs": []
    },
    {
      "cell_type": "markdown",
      "source": [
        "# ========== SAVE BATCH TASKS TO JSONL ==========\n"
      ],
      "metadata": {
        "id": "cpv_gQqsmC1C"
      }
    },
    {
      "cell_type": "code",
      "source": [
        "file_name = \"batch_evalLLM.jsonl\"\n",
        "\n",
        "with open(file_name, 'w') as file:\n",
        "    for obj in tasks:\n",
        "        file.write(json.dumps(obj, ensure_ascii=False) + '\\n')"
      ],
      "metadata": {
        "id": "gXkB1_HiBwAV"
      },
      "execution_count": null,
      "outputs": []
    },
    {
      "cell_type": "markdown",
      "source": [
        "# ========== SUBMIT BATCH TO OPENAI API ==========\n"
      ],
      "metadata": {
        "id": "gnqAM_knmIYP"
      }
    },
    {
      "cell_type": "code",
      "source": [
        "batch_file = client.files.create(\n",
        "  file=open(file_name, \"rb\"),\n",
        "  purpose=\"batch\"\n",
        ")"
      ],
      "metadata": {
        "id": "irCuXb0DB0h7"
      },
      "execution_count": null,
      "outputs": []
    },
    {
      "cell_type": "code",
      "source": [
        "batch_job = client.batches.create(\n",
        "  input_file_id=batch_file.id,\n",
        "  endpoint=\"/v1/chat/completions\",\n",
        "  completion_window=\"24h\"\n",
        ")"
      ],
      "metadata": {
        "id": "TdQD5IDnB6o6"
      },
      "execution_count": null,
      "outputs": []
    },
    {
      "cell_type": "code",
      "source": [
        "batch_job = client.batches.retrieve(batch_job.id)\n",
        "print(batch_job)"
      ],
      "metadata": {
        "id": "nwCeVaXyB8Vm"
      },
      "execution_count": null,
      "outputs": []
    },
    {
      "cell_type": "code",
      "source": [
        "batch_job.status"
      ],
      "metadata": {
        "id": "HI-2lGyECAHk"
      },
      "execution_count": null,
      "outputs": []
    },
    {
      "cell_type": "markdown",
      "source": [
        "# ========== RETRIEVE AND SAVE LLM OUTPUT ==========\n"
      ],
      "metadata": {
        "id": "Pkc7XMsmmOYF"
      }
    },
    {
      "cell_type": "code",
      "source": [
        "result_file_id = batch_job.output_file_id\n",
        "result = client.files.content(result_file_id).content"
      ],
      "metadata": {
        "id": "5MKnicdqCBy_"
      },
      "execution_count": null,
      "outputs": []
    },
    {
      "cell_type": "code",
      "source": [
        "result_file_name = \"batch_job_results_evalLLM.jsonl\"\n",
        "\n",
        "with open(result_file_name, 'wb') as file:\n",
        "    file.write(result)"
      ],
      "metadata": {
        "id": "AE9etlyyCCsT"
      },
      "execution_count": null,
      "outputs": []
    },
    {
      "cell_type": "markdown",
      "source": [
        "# ========== LOAD, PARSE, AND RECONSTRUCT FINAL OUTPUT ==========\n"
      ],
      "metadata": {
        "id": "rq_45zQhmUde"
      }
    },
    {
      "cell_type": "code",
      "source": [
        "results = []\n",
        "with open(result_file_name, 'r') as file:\n",
        "    for line in file:\n",
        "        json_object = json.loads(line.strip())\n",
        "        results.append(json_object)"
      ],
      "metadata": {
        "id": "QJ_3UotwC0HS"
      },
      "execution_count": null,
      "outputs": []
    },
    {
      "cell_type": "code",
      "source": [
        "l = []\n",
        "for res in results:\n",
        "    cid = res[\"custom_id\"]\n",
        "    idx = int(cid.split(\"-\")[1])\n",
        "    result = res['response']['body']['choices'][0]['message']['content']\n",
        "    item=data[idx]\n",
        "    l.append({\n",
        "        \"text\": item['text'],\n",
        "        \"prediction\":  result\n",
        "    })\n"
      ],
      "metadata": {
        "id": "wovMBhrNBs6j"
      },
      "execution_count": null,
      "outputs": []
    },
    {
      "cell_type": "markdown",
      "source": [
        "# ========== SAVE FINAL VERIFICATION OUTPUT ==========\n"
      ],
      "metadata": {
        "id": "4MxQ5XWimaO5"
      }
    },
    {
      "cell_type": "code",
      "source": [
        "with open('Verified-output.json', 'w', encoding='utf-8') as f:\n",
        "    json.dump(l, f, ensure_ascii=False, indent=4)"
      ],
      "metadata": {
        "id": "3ibPnrgymdUp"
      },
      "execution_count": null,
      "outputs": []
    }
  ]
}
