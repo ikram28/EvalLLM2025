{
  "nbformat": 4,
  "nbformat_minor": 0,
  "metadata": {
    "colab": {
      "provenance": []
    },
    "kernelspec": {
      "name": "python3",
      "display_name": "Python 3"
    },
    "language_info": {
      "name": "python"
    }
  },
  "cells": [
    {
      "cell_type": "markdown",
      "source": [
        "# Imports"
      ],
      "metadata": {
        "id": "QTHEySaJqkJH"
      }
    },
    {
      "cell_type": "code",
      "source": [
        "from typing import List, Dict, Any\n",
        "import json"
      ],
      "metadata": {
        "id": "jRAssQqQqmRV"
      },
      "execution_count": null,
      "outputs": []
    },
    {
      "cell_type": "markdown",
      "source": [
        "# Annotate text with XML tags based on entity spans"
      ],
      "metadata": {
        "id": "r5tsKkBcmrTI"
      }
    },
    {
      "cell_type": "code",
      "source": [
        "from typing import List, Dict, Any\n",
        "\n",
        "\n",
        "def tag_text_with_entities(text: str,\n",
        "                           entities: List[Dict[str, Any]]) -> str:\n",
        "    segs = []\n",
        "    for ent in entities:\n",
        "        starts = ent['start'] if isinstance(ent['start'], list) else [ent['start']]\n",
        "        ends   = ent['end']   if isinstance(ent['end'],   list) else [ent['end']]\n",
        "        for s, e in zip(starts, ends):\n",
        "            segs.append({\"start\": s, \"end\": e, \"len\": e - s,\n",
        "                         \"label\": ent[\"label\"], \"orig_id\": ent[\"id\"]})\n",
        "\n",
        "    # Find which entity ids need the ent_id attribute (for overlapping/discontinuous)\n",
        "    needing_attr = _find_overlapping_entity_ids(segs)\n",
        "    short_id_map = {oid: f\"E{i+1}\" for i, oid in enumerate(sorted(needing_attr))}\n",
        "\n",
        "    opens, closes = {}, {}\n",
        "    for seg in segs:\n",
        "        opens .setdefault(seg[\"start\"], []).append(seg)\n",
        "        closes.setdefault(seg[\"end\"],   []).append(seg)\n",
        "\n",
        "    for v in opens.values():   v.sort(key=lambda s: (-s[\"len\"], s[\"orig_id\"]))\n",
        "    for v in closes.values():  v.sort(key=lambda s: ( s[\"len\"], s[\"orig_id\"]))\n",
        "\n",
        "    out, i, n = [], 0, len(text)\n",
        "    while i < n:\n",
        "        if i in closes:\n",
        "            out.extend(f\"</{s['label']}>\" for s in closes[i])\n",
        "\n",
        "        if i in opens:\n",
        "            for s in opens[i]:\n",
        "                oid = s[\"orig_id\"]\n",
        "                if oid in needing_attr:\n",
        "                    out.append(f\"<{s['label']} ent_id=\\\"{short_id_map[oid]}\\\">\")\n",
        "                else:\n",
        "                    out.append(f\"<{s['label']}>\")\n",
        "\n",
        "        out.append(text[i])\n",
        "        i += 1\n",
        "\n",
        "    if n in closes:\n",
        "        out.extend(f\"</{s['label']}>\" for s in closes[n])\n",
        "    return \"\".join(out)\n"
      ],
      "metadata": {
        "id": "0myDAFPEmqzl"
      },
      "execution_count": null,
      "outputs": []
    },
    {
      "cell_type": "markdown",
      "source": [
        "# Overlap detection\n"
      ],
      "metadata": {
        "id": "yHWuG6hfq7g_"
      }
    },
    {
      "cell_type": "code",
      "source": [
        "def _find_overlapping_entity_ids(segs):\n",
        "    from collections import defaultdict\n",
        "    need = set()\n",
        "    by_lab = defaultdict(list)\n",
        "\n",
        "    for s in segs:\n",
        "        by_lab[s[\"label\"]].append((s[\"start\"], s[\"end\"], s[\"orig_id\"]))\n",
        "\n",
        "    for label, ivs in by_lab.items():\n",
        "        ivs.sort(key=lambda t: t[0])\n",
        "        active = []\n",
        "        for start, end, oid in ivs:\n",
        "            active = [(e, i) for (e, i) in active if e > start]\n",
        "            for _, aid in active:\n",
        "                need.add(oid)\n",
        "                need.add(aid)\n",
        "            active.append((end, oid))\n",
        "    return need\n"
      ],
      "metadata": {
        "id": "-0ULU1aMq40z"
      },
      "execution_count": null,
      "outputs": []
    },
    {
      "cell_type": "code",
      "source": [
        "def process_entries(input_file: str, output_file: str) -> None:\n",
        "\n",
        "    with open(input_file, 'r', encoding='utf-8') as f:\n",
        "        data = json.load(f)\n",
        "\n",
        "    for entry in data:\n",
        "        text = entry.get('text', '')\n",
        "        entities = entry.get('entities', [])\n",
        "        entry['tagged_text'] = tag_text_with_entities(text, entities)\n",
        "\n",
        "    with open(output_file, 'w', encoding='utf-8') as f:\n",
        "        json.dump(data, f, ensure_ascii=False, indent=2)\n",
        "\n",
        "\n"
      ],
      "metadata": {
        "id": "YdG5zBjfWznA"
      },
      "execution_count": null,
      "outputs": []
    },
    {
      "cell_type": "code",
      "source": [
        "import json\n",
        "process_entries('Input-file.json', 'Output-file.json')"
      ],
      "metadata": {
        "id": "7AAjqrF2W3WG"
      },
      "execution_count": null,
      "outputs": []
    }
  ]
}
